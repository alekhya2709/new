{
 "cells": [
  {
   "cell_type": "code",
   "execution_count": 1,
   "metadata": {},
   "outputs": [
    {
     "name": "stdout",
     "output_type": "stream",
     "text": [
      "Hello world\n"
     ]
    }
   ],
   "source": [
    "#1)Was to print\"Helloworld\"\n",
    "print(\"Hello world\")"
   ]
  },
  {
   "cell_type": "code",
   "execution_count": 5,
   "metadata": {},
   "outputs": [
    {
     "name": "stdout",
     "output_type": "stream",
     "text": [
      "150\n",
      "120\n",
      "250\n"
     ]
    }
   ],
   "source": [
    "#4)Was to initilize multivariable values are 150,120,250\n",
    "a,b,c=150,120,250\n",
    "print(a)\n",
    "print(b)\n",
    "print(c)"
   ]
  },
  {
   "cell_type": "code",
   "execution_count": 6,
   "metadata": {},
   "outputs": [
    {
     "name": "stdout",
     "output_type": "stream",
     "text": [
      "<class 'complex'>\n",
      "<class 'int'>\n",
      "<class 'float'>\n",
      "<class 'dict'>\n"
     ]
    }
   ],
   "source": [
    "#5)Was to print the type of data given below\n",
    "a=10+2j\n",
    "print(type(a))\n",
    "b=10\n",
    "c=10.5\n",
    "d={\"a\":10}\n",
    "print(type(b))\n",
    "print(type(c))\n",
    "print(type(d))\n"
   ]
  },
  {
   "cell_type": "code",
   "execution_count": 4,
   "metadata": {},
   "outputs": [
    {
     "data": {
      "text/plain": [
       "2292307374848"
      ]
     },
     "execution_count": 4,
     "metadata": {},
     "output_type": "execute_result"
    }
   ],
   "source": [
    "#6)Was to print the addres of the memory block in given value\n",
    "a={10:20}\n",
    "id(a)"
   ]
  },
  {
   "cell_type": "code",
   "execution_count": 10,
   "metadata": {},
   "outputs": [
    {
     "name": "stdout",
     "output_type": "stream",
     "text": [
      "Alekhya\n",
      "Alekhya 20 9959447409 vahinit27@gmail.com 5.6 True\n",
      "20\n",
      "alekhya\n"
     ]
    }
   ],
   "source": [
    "#7)Was to print your details,first store your details,extract the values and display it\n",
    "name=\"Alekhya\"\n",
    "Age=20\n",
    "Phone=9959447409\n",
    "email=\"vahinit27@gmail.com\"\n",
    "height=5.6\n",
    "pancard=True\n",
    "print(name)\n",
    "print(name,Age,Phone,email,height,pancard)\n",
    "alekhya={'name':'alekhya',\"age\":20,\"phone\":9959447409,\"height\":5.6}\n",
    "print(alekhya['age'])\n",
    "print(alekhya['name'])\n",
    "\n",
    "         "
   ]
  },
  {
   "cell_type": "code",
   "execution_count": 11,
   "metadata": {},
   "outputs": [
    {
     "name": "stdout",
     "output_type": "stream",
     "text": [
      "alekhya\n",
      "hai\n"
     ]
    }
   ],
   "source": [
    "#8)Was to swap 2 values with temp variable\n",
    "x=\"hai\"\n",
    "y=\"alekhya\"\n",
    "temp=x\n",
    "x=y\n",
    "y=temp\n",
    "print(x)\n",
    "print(y)\n"
   ]
  },
  {
   "cell_type": "code",
   "execution_count": 12,
   "metadata": {},
   "outputs": [
    {
     "name": "stdout",
     "output_type": "stream",
     "text": [
      "20\n",
      "10\n"
     ]
    }
   ],
   "source": [
    "#9)was to swap 2 values with out temp variable\n",
    "a=10\n",
    "b=20\n",
    "a,b=b,a\n",
    "print(a)\n",
    "print(b)"
   ]
  },
  {
   "cell_type": "code",
   "execution_count": 31,
   "metadata": {},
   "outputs": [
    {
     "name": "stdout",
     "output_type": "stream",
     "text": [
      "{'a': 'alekhya'}\n",
      "alekhya\n",
      "{'a': 'akhil'}\n",
      "akhil\n"
     ]
    }
   ],
   "source": [
    "#10)was to initilize a value and print the value after print the value,the reinitilize the new value to the existing variable and display the value\n",
    "ale={'a':\"alekhya\"}\n",
    "print(a)\n",
    "print(ale['a'])\n",
    "ale['a']=\"akhil\"\n",
    "print(ale)\n",
    "print(ale['a'])\n"
   ]
  },
  {
   "cell_type": "code",
   "execution_count": 39,
   "metadata": {},
   "outputs": [
    {
     "name": "stdout",
     "output_type": "stream",
     "text": [
      "<class 'str'>\n",
      "10\n",
      "['1', '0']\n"
     ]
    }
   ],
   "source": [
    "#11.)was to convert single to multi value data type\n",
    "a=10\n",
    "a=str(a)\n",
    "print(type(a))\n",
    "print(a)\n",
    "a=list(a)\n",
    "print(a)"
   ]
  },
  {
   "cell_type": "code",
   "execution_count": 25,
   "metadata": {},
   "outputs": [
    {
     "name": "stdout",
     "output_type": "stream",
     "text": [
      "hi barbie\n",
      "[10, 20, 30, 40, 50]\n",
      "[10, 20, 30, 'h', 'a', 'i', 'i']\n",
      "[1, 2, 3, 10, 20]\n",
      "[10, 20, 30, 'a', 99, 'c']\n",
      "[10, 20, 30, 'a', 'b']\n",
      "(10, 20, 30, 'a', 'b')\n",
      "{'a': 1, 'b': 2, 'c': 'taylor'}\n"
     ]
    }
   ],
   "source": [
    "#12)was to concat the two multivalue data types(str,list,tuple,set,dict)\n",
    "#str\n",
    "x=\"hi\"\n",
    "x+=\" barbie\"\n",
    "print(x)\n",
    "#list\n",
    "y=[10,20,30]\n",
    "y+=[40,50]\n",
    "print(y)\n",
    "a=[10,20,30]\n",
    "a+=\"haii\"\n",
    "print(a)\n",
    "b=[1,2,3]\n",
    "b+=(10,20)\n",
    "print(b)\n",
    "c=[10,20,30]\n",
    "c+={'a',99,'c'}\n",
    "print(c)\n",
    "d=[10,20,30]\n",
    "d+={'a':\"i\",\"b\":\"know\"}\n",
    "print(d)\n",
    "#tuple\n",
    "e=(10,20,30)\n",
    "e+=(\"a\",\"b\")\n",
    "print(e)\n",
    "#dict\n",
    "i={\"a\":1,\"b\":2}\n",
    "i|={\"c\":\"taylor\"}\n",
    "print(i)"
   ]
  },
  {
   "cell_type": "code",
   "execution_count": 57,
   "metadata": {},
   "outputs": [
    {
     "name": "stdout",
     "output_type": "stream",
     "text": [
      "6\n"
     ]
    }
   ],
   "source": [
    "#13)was to check the length of the collection\n",
    "s={1,2,3,5,6,7,3}\n",
    "print(len(s))"
   ]
  },
  {
   "cell_type": "code",
   "execution_count": 60,
   "metadata": {},
   "outputs": [
    {
     "name": "stdout",
     "output_type": "stream",
     "text": [
      "5\n",
      "30\n"
     ]
    }
   ],
   "source": [
    "#14)wae to check the middle value of given collection\n",
    "a=[10,20,30,40,50]\n",
    "print(len(a))\n",
    "print(a[len(a)//2])\n"
   ]
  },
  {
   "cell_type": "code",
   "execution_count": 62,
   "metadata": {},
   "outputs": [
    {
     "name": "stdout",
     "output_type": "stream",
     "text": [
      "barbie hi\n"
     ]
    }
   ],
   "source": [
    "#15)was to concat new string into the starting of the given string\n",
    "a=\"hi\"\n",
    "b=\"barbie \"\n",
    "print(b+a)"
   ]
  },
  {
   "cell_type": "code",
   "execution_count": 64,
   "metadata": {},
   "outputs": [
    {
     "name": "stdout",
     "output_type": "stream",
     "text": [
      "you are so gorgeous\n"
     ]
    }
   ],
   "source": [
    "#16)was to concat the new string into the ending of string\n",
    "a=\"you are so \"\n",
    "b=\"gorgeous\"\n",
    "print(a+b)"
   ]
  },
  {
   "cell_type": "code",
   "execution_count": 65,
   "metadata": {},
   "outputs": [
    {
     "name": "stdout",
     "output_type": "stream",
     "text": [
      "alekhya\n"
     ]
    }
   ],
   "source": [
    "#17)was to concat the new string into the middle of the given string\n",
    "a=\"ale\"\n",
    "b=\"hya\"\n",
    "a=a+\"k\"+b\n",
    "print(a)\n"
   ]
  },
  {
   "cell_type": "code",
   "execution_count": 12,
   "metadata": {},
   "outputs": [
    {
     "data": {
      "text/plain": [
       "'alekhya'"
      ]
     },
     "execution_count": 12,
     "metadata": {},
     "output_type": "execute_result"
    }
   ],
   "source": [
    "#18)was to modify the new charecter into the middle of th string\n",
    "a=\"aleKhya\"\n",
    "a[0:len(a)//2]+'k'+a[(len(a)//2)+1:]"
   ]
  },
  {
   "cell_type": "code",
   "execution_count": 13,
   "metadata": {},
   "outputs": [
    {
     "data": {
      "text/plain": [
       "'ALEkhYA'"
      ]
     },
     "execution_count": 13,
     "metadata": {},
     "output_type": "execute_result"
    }
   ],
   "source": [
    "#19)was to modify the sequence of charecters in given string\n",
    "s=\"ALEKHYA\"\n",
    "s[0:3]+\"kh\"+s[5:]"
   ]
  },
  {
   "cell_type": "code",
   "execution_count": 21,
   "metadata": {},
   "outputs": [
    {
     "data": {
      "text/plain": [
       "'ALEKHYA'"
      ]
     },
     "execution_count": 21,
     "metadata": {},
     "output_type": "execute_result"
    }
   ],
   "source": [
    "#20)was to replace the old charecter into a new charecter of string\n",
    "s=\"ALEahYA\"\n",
    "s[0:3]+'KH'+s[5:]"
   ]
  },
  {
   "cell_type": "code",
   "execution_count": 3,
   "metadata": {},
   "outputs": [
    {
     "name": "stdout",
     "output_type": "stream",
     "text": [
      "alekhya\n"
     ]
    }
   ],
   "source": [
    "#21)was to delete the specific charecter in string\n",
    "s=\"alekhya\"\n",
    "s[0:4]+s[5:]\n",
    "\n"
   ]
  },
  {
   "cell_type": "code",
   "execution_count": 5,
   "metadata": {},
   "outputs": [
    {
     "data": {
      "text/plain": [
       "'canbethisclose'"
      ]
     },
     "execution_count": 5,
     "metadata": {},
     "output_type": "execute_result"
    }
   ],
   "source": [
    "#22)was to delete the sequence of charecters in string\n",
    "s=\"canwealwaysbethisclose\"\n",
    "s[:3]+s[11:]"
   ]
  },
  {
   "cell_type": "code",
   "execution_count": 9,
   "metadata": {},
   "outputs": [
    {
     "data": {
      "text/plain": [
       "'your eyes whispered have we meet!'"
      ]
     },
     "execution_count": 9,
     "metadata": {},
     "output_type": "execute_result"
    }
   ],
   "source": [
    "#23)was to concat the new string into the specific position of string\n",
    "a=\"your eyes have we meet!\"\n",
    "a[:10]+\"whispered \"+a[10:]"
   ]
  },
  {
   "cell_type": "code",
   "execution_count": 14,
   "metadata": {},
   "outputs": [
    {
     "name": "stdout",
     "output_type": "stream",
     "text": [
      "['t', 's', 2, 4, 6, 8]\n",
      "['a', 'b', 1, 2, 3]\n"
     ]
    }
   ],
   "source": [
    "#24)was to concat the new value into the starting of the list\n",
    "a=[2,4,6,8]  #indexing\n",
    "a=[\"t\",\"s\"]+a\n",
    "print(a)\n",
    "#slicing\n",
    "b=[1,2,3]\n",
    "b[0:0]=[\"a\",\"b\"]\n",
    "print(b)"
   ]
  },
  {
   "cell_type": "code",
   "execution_count": 21,
   "metadata": {},
   "outputs": [
    {
     "name": "stdout",
     "output_type": "stream",
     "text": [
      "[1, 2, 3, 'hi', 'a']\n",
      "['alekhya', 'suri', 'devi', 'akhil']\n",
      "[1, 2, 3, 4, 5, 6]\n"
     ]
    }
   ],
   "source": [
    "#25)was to concat the new value into the ending of the list\n",
    "a=[1,2,3]\n",
    "a=a+[\"hi\",\"a\"]\n",
    "print(a)\n",
    "b=['alekhya','suri']\n",
    "b+=['devi','akhil']\n",
    "print(b)\n",
    "c=[1,2,3]\n",
    "c[3:3]=[4,5,6]\n",
    "print(c)"
   ]
  },
  {
   "cell_type": "code",
   "execution_count": 26,
   "metadata": {},
   "outputs": [
    {
     "name": "stdout",
     "output_type": "stream",
     "text": [
      "4\n",
      "[10, 20, 1, 2, 3, 30, 40]\n",
      "[1, 2, 10, 20, 30, 3, 4, 5]\n"
     ]
    }
   ],
   "source": [
    "#26)was to concat the new value into the middle of the list\n",
    "a=[10,20,30,40]\n",
    "print(len(a))                #even\n",
    "a[len(a)//2:len(a)//2]=[1,2,3]\n",
    "print(a)\n",
    "\n",
    "a=[1,2,3,4,5]\n",
    "a[len(a)//2:len(a)//2]=[10,20,30]     #odd\n",
    "print(a)"
   ]
  },
  {
   "cell_type": "code",
   "execution_count": 27,
   "metadata": {},
   "outputs": [
    {
     "name": "stdout",
     "output_type": "stream",
     "text": [
      "[10, 20, 1, 2, 30, 40, 50]\n"
     ]
    }
   ],
   "source": [
    "#27)was to concat the new value into the specific position of the list\n",
    "a=[10,20,30,40,50]\n",
    "a[2:2]=[1,2]\n",
    "print(a)"
   ]
  },
  {
   "cell_type": "code",
   "execution_count": 28,
   "metadata": {},
   "outputs": [
    {
     "name": "stdout",
     "output_type": "stream",
     "text": [
      "[10, 20, 30, 44, 50]\n"
     ]
    }
   ],
   "source": [
    "#28)was to modify the new value into the specific position of the given list\n",
    "a=[10,20,30,40,50]\n",
    "a[3]=44\n",
    "print(a)\n"
   ]
  },
  {
   "cell_type": "code",
   "execution_count": 30,
   "metadata": {},
   "outputs": [
    {
     "name": "stdout",
     "output_type": "stream",
     "text": [
      "[(10, 20), 'b', 'c']\n"
     ]
    }
   ],
   "source": [
    "#29)was t0 modify the new value into the starting of the list\n",
    "a=['a','b','c']\n",
    "a[0]=(10,20)\n",
    "print(a)"
   ]
  },
  {
   "cell_type": "code",
   "execution_count": 31,
   "metadata": {},
   "outputs": [
    {
     "name": "stdout",
     "output_type": "stream",
     "text": [
      "[10, 20, 'a', 20.3, 'taylor']\n"
     ]
    }
   ],
   "source": [
    "#30)was to modify the new value into the ending of the list\n",
    "a=[10,20,'a',20.3,'hi']\n",
    "a[-1]='taylor'\n",
    "print(a)"
   ]
  },
  {
   "cell_type": "code",
   "execution_count": 32,
   "metadata": {},
   "outputs": [
    {
     "name": "stdout",
     "output_type": "stream",
     "text": [
      "[1, 2, 'alekhya', 4]\n"
     ]
    }
   ],
   "source": [
    "#31)was to modify the new value into the middle of the list\n",
    "a=[1,2,3,4]\n",
    "a[len(a)//2]='alekhya'\n",
    "print(a)"
   ]
  },
  {
   "cell_type": "code",
   "execution_count": 33,
   "metadata": {},
   "outputs": [
    {
     "name": "stdout",
     "output_type": "stream",
     "text": [
      "['d', 'e', 'v', 'i', 5, 6, 7, 8, 9]\n"
     ]
    }
   ],
   "source": [
    "#32)was to modify the first 4 positions values into a list\n",
    "a=[1,2,3,4,5,6,7,8,9]\n",
    "a[:4]=['d','e','v','i']\n",
    "print(a)\n"
   ]
  },
  {
   "cell_type": "code",
   "execution_count": 34,
   "metadata": {},
   "outputs": [
    {
     "name": "stdout",
     "output_type": "stream",
     "text": [
      "['a', 2, 'b', 4, 'c', 6, 'd', 8, 'e']\n"
     ]
    }
   ],
   "source": [
    "#33)was to modify the sequence of values into a given list\n",
    "a=[1,2,3,4,5,6,7,8,9]\n",
    "a[::2]=['a','b','c','d','e']\n",
    "print(a)"
   ]
  },
  {
   "cell_type": "code",
   "execution_count": 36,
   "metadata": {},
   "outputs": [
    {
     "name": "stdout",
     "output_type": "stream",
     "text": [
      "[1, 2, 4, 5]\n"
     ]
    }
   ],
   "source": [
    "#34)was to delete the value in specific position of the list\n",
    "s=[1,2,3,4,5]\n",
    "del s[2]\n",
    "print(s)"
   ]
  },
  {
   "cell_type": "code",
   "execution_count": 39,
   "metadata": {},
   "outputs": [
    {
     "name": "stdout",
     "output_type": "stream",
     "text": [
      "[1, 2, 3, 4]\n"
     ]
    }
   ],
   "source": [
    " #35)was to delete the new value into the ending of the list\n",
    "l=[1,2,3,4,5]\n",
    "del l[-1]\n",
    "print(l)"
   ]
  },
  {
   "cell_type": "code",
   "execution_count": 41,
   "metadata": {},
   "outputs": [
    {
     "name": "stdout",
     "output_type": "stream",
     "text": [
      "[2, 3, 4, 5]\n",
      "[2, 3, 4, 5]\n"
     ]
    }
   ],
   "source": [
    "#36)was to delete the new value into the starting of the list\n",
    "s=[1,2,3,4,5]\n",
    "s[0:1]=[]       #slicing\n",
    "print(s)\n",
    "\n",
    "a=[1,2,3,4,5]\n",
    "del a[0]\n",
    "print(a)"
   ]
  },
  {
   "cell_type": "code",
   "execution_count": 43,
   "metadata": {},
   "outputs": [
    {
     "name": "stdout",
     "output_type": "stream",
     "text": [
      "[1, 2, 4, 5]\n",
      "[1, 2, 5]\n"
     ]
    }
   ],
   "source": [
    "#37)was to delete the new value into the middle of the list\n",
    "a=[1,2,3,4,5]\n",
    "del a[len(a)//2]   #odd\n",
    "print(a)\n",
    "\n",
    "b=[1,2,3,5]    #even\n",
    "del b[len(b)//2]\n",
    "print(b)"
   ]
  },
  {
   "cell_type": "code",
   "execution_count": 47,
   "metadata": {},
   "outputs": [
    {
     "name": "stdout",
     "output_type": "stream",
     "text": [
      "('a', 'b', 10, 20, 30, 40)\n"
     ]
    }
   ],
   "source": [
    "#38)was to concat the value in the starting of tuple\n",
    "a=(10,20,30,40)\n",
    "a=('a','b')+a\n",
    "print(a)"
   ]
  },
  {
   "cell_type": "code",
   "execution_count": 48,
   "metadata": {},
   "outputs": [
    {
     "name": "stdout",
     "output_type": "stream",
     "text": [
      "(1, 2, 3, 'a', 'b', 4, 5)\n"
     ]
    }
   ],
   "source": [
    "#39)wap to concat the value at the middle of tuple.\n",
    "a=(1,2,3,4,5)\n",
    "a=a[:3]+('a','b')+a[3:]\n",
    "print(a)\n"
   ]
  },
  {
   "cell_type": "code",
   "execution_count": 49,
   "metadata": {},
   "outputs": [
    {
     "name": "stdout",
     "output_type": "stream",
     "text": [
      "(1, 2, 3, 4, 5, 'a', 'b')\n"
     ]
    }
   ],
   "source": [
    "#40)wap to concatenate the new value at the ending of tuple\n",
    "t=(1,2,3,4,5)\n",
    "t+=('a','b')\n",
    "print(t)"
   ]
  },
  {
   "cell_type": "code",
   "execution_count": 1,
   "metadata": {},
   "outputs": [
    {
     "name": "stdout",
     "output_type": "stream",
     "text": [
      "(10, 'modified')\n"
     ]
    }
   ],
   "source": [
    "#41)was to modify sequence values in a tuple\n",
    "t=(10,10.12,True,50)\n",
    "print(t[0:1]+('modified',))"
   ]
  },
  {
   "cell_type": "code",
   "execution_count": 2,
   "metadata": {},
   "outputs": [
    {
     "name": "stdout",
     "output_type": "stream",
     "text": [
      "(10, [10, True])\n"
     ]
    }
   ],
   "source": [
    "#42)was to delete sequence of values in a tuple \n",
    "t=(10,10.12,True,'string',[10,True])\n",
    "print(t[:1]+t[-1:])"
   ]
  },
  {
   "cell_type": "code",
   "execution_count": null,
   "metadata": {},
   "outputs": [],
   "source": []
  },
  {
   "cell_type": "code",
   "execution_count": 3,
   "metadata": {},
   "outputs": [
    {
     "name": "stdout",
     "output_type": "stream",
     "text": [
      "140726826296392\n",
      "140726826296392\n"
     ]
    }
   ],
   "source": [
    "a=10\n",
    "b=10\n",
    "print(id(a))\n",
    "print(id(b))\n"
   ]
  },
  {
   "cell_type": "code",
   "execution_count": 10,
   "metadata": {},
   "outputs": [
    {
     "name": "stdout",
     "output_type": "stream",
     "text": [
      "yth\n"
     ]
    }
   ],
   "source": [
    "a=\"python\"\n",
    "print(a[1:4])"
   ]
  },
  {
   "cell_type": "code",
   "execution_count": 11,
   "metadata": {},
   "outputs": [
    {
     "name": "stdout",
     "output_type": "stream",
     "text": [
      "('h', 'a', 'i')\n"
     ]
    }
   ],
   "source": [
    "a=tuple('hai')\n",
    "print(a)"
   ]
  },
  {
   "cell_type": "code",
   "execution_count": 12,
   "metadata": {},
   "outputs": [
    {
     "name": "stdout",
     "output_type": "stream",
     "text": [
      "[10, 50, 60, 80]\n",
      "[10, 10, 50, 60, 80]\n"
     ]
    }
   ],
   "source": [
    "import copy\n",
    "l=[10,50,60,80]\n",
    "u=copy.deepcopy(l)\n",
    "u[1:3]=[10,50,60]\n",
    "print(l)\n",
    "print(u)"
   ]
  },
  {
   "cell_type": "code",
   "execution_count": 13,
   "metadata": {},
   "outputs": [
    {
     "ename": "TypeError",
     "evalue": "can only concatenate tuple (not \"int\") to tuple",
     "output_type": "error",
     "traceback": [
      "\u001b[1;31m---------------------------------------------------------------------------\u001b[0m",
      "\u001b[1;31mTypeError\u001b[0m                                 Traceback (most recent call last)",
      "Cell \u001b[1;32mIn[13], line 5\u001b[0m\n\u001b[0;32m      3\u001b[0m x[\u001b[39m2\u001b[39m][(\u001b[39m10\u001b[39m,)]\u001b[39m|\u001b[39m\u001b[39m=\u001b[39m{\u001b[39m60\u001b[39m,\u001b[39m70\u001b[39m}\n\u001b[0;32m      4\u001b[0m y[\u001b[39m-\u001b[39m\u001b[39m1\u001b[39m]\u001b[39m+\u001b[39m\u001b[39m=\u001b[39m[\u001b[39m'\u001b[39m\u001b[39ma\u001b[39m\u001b[39m'\u001b[39m,\u001b[39m'\u001b[39m\u001b[39mb\u001b[39m\u001b[39m'\u001b[39m]\n\u001b[1;32m----> 5\u001b[0m y[\u001b[39m-\u001b[39;49m\u001b[39m2\u001b[39;49m]\u001b[39m+\u001b[39;49m\u001b[39m=\u001b[39;49m(\u001b[39m18\u001b[39;49m)\n\u001b[0;32m      6\u001b[0m \u001b[39mprint\u001b[39m(x)\n",
      "\u001b[1;31mTypeError\u001b[0m: can only concatenate tuple (not \"int\") to tuple"
     ]
    }
   ],
   "source": [
    "x=[115,'pys',{'A':14,(10,):{10,50}},(15,625),[15.06,80]]\n",
    "y=x.copy()\n",
    "x[2][(10,)]|={60,70}\n",
    "y[-1]+=['a','b']\n",
    "y[-2]+=(18)\n",
    "print(x)"
   ]
  },
  {
   "cell_type": "code",
   "execution_count": 15,
   "metadata": {},
   "outputs": [
    {
     "data": {
      "text/plain": [
       "'str'"
      ]
     },
     "execution_count": 15,
     "metadata": {},
     "output_type": "execute_result"
    }
   ],
   "source": [
    "([5*2,2**2] or ('str'<\"pys\")) and ({10,20} and 'str')"
   ]
  },
  {
   "cell_type": "code",
   "execution_count": null,
   "metadata": {},
   "outputs": [],
   "source": []
  }
 ],
 "metadata": {
  "kernelspec": {
   "display_name": "Python 3",
   "language": "python",
   "name": "python3"
  },
  "language_info": {
   "codemirror_mode": {
    "name": "ipython",
    "version": 3
   },
   "file_extension": ".py",
   "mimetype": "text/x-python",
   "name": "python",
   "nbconvert_exporter": "python",
   "pygments_lexer": "ipython3",
   "version": "3.11.4"
  },
  "orig_nbformat": 4
 },
 "nbformat": 4,
 "nbformat_minor": 2
}
