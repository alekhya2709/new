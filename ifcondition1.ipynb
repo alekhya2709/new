{
 "cells": [
  {
   "cell_type": "code",
   "execution_count": 3,
   "metadata": {},
   "outputs": [
    {
     "name": "stdout",
     "output_type": "stream",
     "text": [
      "positive\n"
     ]
    }
   ],
   "source": [
    "#1)wap to check wheather a number is positive if positive print a message positive\n",
    "n=19\n",
    "if n>0:\n",
    "    print(\"positive\")"
   ]
  },
  {
   "cell_type": "code",
   "execution_count": 4,
   "metadata": {},
   "outputs": [
    {
     "name": "stdout",
     "output_type": "stream",
     "text": [
      "hello world\n"
     ]
    }
   ],
   "source": [
    "#2)wap to display hello woeld if the number is greater than 1 and lesser than 5\n",
    "n=3\n",
    "if n>1 and n<5:\n",
    "    print(\"hello world\")"
   ]
  },
  {
   "cell_type": "code",
   "execution_count": 5,
   "metadata": {},
   "outputs": [
    {
     "name": "stdout",
     "output_type": "stream",
     "text": [
      "fizz\n"
     ]
    }
   ],
   "source": [
    "#3)wap to check wheather the given number is divisible by 3 or not if print fizz\n",
    "n=96\n",
    "if n%3==0:\n",
    "    print(\"fizz\")"
   ]
  },
  {
   "cell_type": "code",
   "execution_count": 6,
   "metadata": {},
   "outputs": [
    {
     "name": "stdout",
     "output_type": "stream",
     "text": [
      "(24+0j)\n"
     ]
    }
   ],
   "source": [
    "#4)wap to check whether given input is divisible by 2 and 6.if the condition is satisfied convert the given number into a complex number\n",
    "n=24\n",
    "if n%2==0 and n%6==0:\n",
    "    print(complex(n))"
   ]
  },
  {
   "cell_type": "code",
   "execution_count": 11,
   "metadata": {},
   "outputs": [
    {
     "name": "stdout",
     "output_type": "stream",
     "text": [
      "['3', '0']\n"
     ]
    }
   ],
   "source": [
    "#5)wap to check whether a given input is divisible by 3 or 5.if the condition is satisfied the number is converted to a list\n",
    "n=30\n",
    "if n%3==0 or n%5==0:\n",
    "    a=str(n)\n",
    "    print(list(a))"
   ]
  },
  {
   "cell_type": "code",
   "execution_count": 16,
   "metadata": {},
   "outputs": [
    {
     "name": "stdout",
     "output_type": "stream",
     "text": [
      "multiple\n"
     ]
    }
   ],
   "source": [
    "#6)wap to check whether a given number is multiple of 5 or not\n",
    "n=55\n",
    "if n%5==0:\n",
    "    print(\"multiple\")"
   ]
  },
  {
   "cell_type": "code",
   "execution_count": 19,
   "metadata": {},
   "outputs": [
    {
     "name": "stdout",
     "output_type": "stream",
     "text": [
      "0\n"
     ]
    }
   ],
   "source": [
    "#7)wap to check whether the given input is 0 or not if 0 print 0\n",
    "n=0\n",
    "if n==0:\n",
    "    print(\"0\")"
   ]
  },
  {
   "cell_type": "code",
   "execution_count": 21,
   "metadata": {},
   "outputs": [],
   "source": [
    "#8)wap to check whether a number is negative.if negative print a message negative\n",
    "n=-99\n",
    "if n<0:\n",
    "    print(\"negative\")"
   ]
  },
  {
   "cell_type": "code",
   "execution_count": 24,
   "metadata": {},
   "outputs": [
    {
     "name": "stdout",
     "output_type": "stream",
     "text": [
      "['5', '2']\n"
     ]
    }
   ],
   "source": [
    "#9)wap to check whether a number is even or not .if even store the value inside the list\n",
    "n=52\n",
    "if n%2==0:\n",
    "    a=str(n)\n",
    "    print(list(a))"
   ]
  },
  {
   "cell_type": "code",
   "execution_count": 28,
   "metadata": {},
   "outputs": [
    {
     "name": "stdout",
     "output_type": "stream",
     "text": [
      "('2', '7')\n"
     ]
    }
   ],
   "source": [
    "#10)wap to check whether a number is odd or not .if odd store the value inside the tuple\n",
    "n=27\n",
    "if n%3==0:\n",
    "    a=str(n)\n",
    "    print(tuple(a))"
   ]
  },
  {
   "cell_type": "code",
   "execution_count": 31,
   "metadata": {},
   "outputs": [
    {
     "name": "stdout",
     "output_type": "stream",
     "text": [
      "614656\n"
     ]
    }
   ],
   "source": [
    "#11)wap to check if the given number is even or not if it is yes to print the power of 4 in a given number\n",
    "n=28\n",
    "if n%2==0:\n",
    "    print(n**4)"
   ]
  },
  {
   "cell_type": "code",
   "execution_count": 51,
   "metadata": {},
   "outputs": [
    {
     "name": "stdout",
     "output_type": "stream",
     "text": [
      "18\n"
     ]
    }
   ],
   "source": [
    "#12)wap to take the input from the user as a number and check whether it is a number or not if yes take the number and add some value and print it\n",
    "n=int(input(\"enter a number:\"))\n",
    "if type(n)==int:\n",
    "    print(n+9)\n",
    "\n"
   ]
  },
  {
   "cell_type": "code",
   "execution_count": 48,
   "metadata": {},
   "outputs": [
    {
     "name": "stdout",
     "output_type": "stream",
     "text": [
      "hello world\n"
     ]
    }
   ],
   "source": [
    "#13)wap to display hello world if the number is greater than 1 and less than 5\n",
    "n=3\n",
    "if n>1 and n<5:\n",
    "    print(\"hello world\")"
   ]
  },
  {
   "cell_type": "code",
   "execution_count": 46,
   "metadata": {},
   "outputs": [
    {
     "name": "stdout",
     "output_type": "stream",
     "text": [
      "1225\n"
     ]
    }
   ],
   "source": [
    "#14)wap to check whether a given value is divisible by 5 and 7.if the value is divisible to display the square of the values\n",
    "n=35\n",
    "if n%5==0 and n%7==0:\n",
    "    print(n**2)"
   ]
  },
  {
   "cell_type": "code",
   "execution_count": 56,
   "metadata": {},
   "outputs": [
    {
     "name": "stdout",
     "output_type": "stream",
     "text": [
      "2\n"
     ]
    }
   ],
   "source": [
    "#15)wap to check whether the given values last digit is greater than 5 or not if greater to perform the bitwisee right shift operator(skipping value is 2)\n",
    "n=28\n",
    "if (n%10>5):\n",
    "    print((n%10)>>2)\n",
    "\n"
   ]
  },
  {
   "cell_type": "code",
   "execution_count": 1,
   "metadata": {},
   "outputs": [
    {
     "name": "stdout",
     "output_type": "stream",
     "text": [
      "225\n"
     ]
    }
   ],
   "source": [
    "#16)WAP to check whether a given value is divisible by 3 and less than 30. If the value is divisible,to display the square of the values.\n",
    "n=15\n",
    "if n%3==0 and n<30:\n",
    "    print(n**2)"
   ]
  },
  {
   "cell_type": "code",
   "execution_count": 2,
   "metadata": {},
   "outputs": [
    {
     "name": "stdout",
     "output_type": "stream",
     "text": [
      "8000\n"
     ]
    }
   ],
   "source": [
    "#17)WAP to check whether a given value is an even number and divisible by 4. If satisfied ,to display the cube of the values.\n",
    "n=20\n",
    "if n%2==0 and n%4==0:\n",
    "    print(n**3)"
   ]
  },
  {
   "cell_type": "code",
   "execution_count": 3,
   "metadata": {},
   "outputs": [
    {
     "name": "stdout",
     "output_type": "stream",
     "text": [
      "['2', '8']\n"
     ]
    }
   ],
   "source": [
    "#18)WAP to check whether a given value is even or not. If the even number stores the value inside the list.\n",
    "n=28\n",
    "if n%2==0:\n",
    "    a=str(n)\n",
    "    print(list(a))"
   ]
  },
  {
   "cell_type": "code",
   "execution_count": 21,
   "metadata": {},
   "outputs": [
    {
     "name": "stdout",
     "output_type": "stream",
     "text": [
      "6\n"
     ]
    }
   ],
   "source": [
    "#19)WAP to check whether a given value is a negative or even number. If satisfied ,to display the last digit of the values.\n",
    "n=-124\n",
    "if n<0 or n%2==0:\n",
    "    print((n)%10)"
   ]
  },
  {
   "cell_type": "code",
   "execution_count": 10,
   "metadata": {},
   "outputs": [
    {
     "name": "stdout",
     "output_type": "stream",
     "text": [
      "-19683\n"
     ]
    }
   ],
   "source": [
    "#20)WAP to check whether a given value is a negative or odd number and divisible by 4. If satisfied ,to display the cube of the values.\n",
    "n=-27\n",
    "if n<0 or n%4==0:\n",
    "    print(n**3)\n",
    "    \n",
    "n=29\n",
    "if n<0 or n%4==0:\n",
    "    print(n**3)    "
   ]
  },
  {
   "cell_type": "code",
   "execution_count": 13,
   "metadata": {},
   "outputs": [
    {
     "name": "stdout",
     "output_type": "stream",
     "text": [
      "x\n"
     ]
    }
   ],
   "source": [
    "#21)WAP to check whether a given ascii value is divisible by 4 and even value. If satisfied, to display the ascii character\n",
    "n=120\n",
    "if n%4==0 and n%2==0:\n",
    "    print(chr(n))"
   ]
  },
  {
   "cell_type": "code",
   "execution_count": 14,
   "metadata": {},
   "outputs": [
    {
     "name": "stdout",
     "output_type": "stream",
     "text": [
      "P\n"
     ]
    }
   ],
   "source": [
    "#22)WAP to check whether a given value is present in between 45 to 125 and the number should be divisible by 4 and 5 and even value. If satisfied, to display the ascii character.\n",
    "n=80\n",
    "if 45<n<125 and n%4==0 and n%5==0 and n%2==0:\n",
    "    print(chr(n))"
   ]
  },
  {
   "cell_type": "code",
   "execution_count": 15,
   "metadata": {},
   "outputs": [
    {
     "name": "stdout",
     "output_type": "stream",
     "text": [
      "200\n"
     ]
    }
   ],
   "source": [
    "#23)WAP to check whether a given value is present in between 25 to 100 and the number should be divisible by 4 and 5. If satisfied, to display multiplication of given value with 5.\n",
    "n=40\n",
    "if 25<n<100 and n%4==0 and n%5==0:\n",
    "    print(n*5)"
   ]
  },
  {
   "cell_type": "code",
   "execution_count": 20,
   "metadata": {},
   "outputs": [
    {
     "name": "stdout",
     "output_type": "stream",
     "text": [
      "0\n"
     ]
    }
   ],
   "source": [
    "#24)WAP to check whether a given number is an integer and odd number. If the condition is satisfied, the integer is divisible by 5 and displays the result\n",
    "n=45\n",
    "if type(n)==int and n%2!=0:\n",
    "    print(n%5==0)"
   ]
  },
  {
   "cell_type": "code",
   "execution_count": 24,
   "metadata": {},
   "outputs": [
    {
     "name": "stdout",
     "output_type": "stream",
     "text": [
      "53\n"
     ]
    }
   ],
   "source": [
    "#25)WAP to check whether a given value is an integer or not. If integer, the given value is converted to string and displays the result.\n",
    "\n",
    "n=53\n",
    "if type(n)==int:\n",
    "    print(str(n))"
   ]
  },
  {
   "cell_type": "code",
   "execution_count": 26,
   "metadata": {},
   "outputs": [
    {
     "name": "stdout",
     "output_type": "stream",
     "text": [
      "k\n"
     ]
    }
   ],
   "source": [
    "#26)WAP to check whether a given value is less than 125 and greater than 60 or not. If the condition is satisfied, take the name and extract the middle character and display it\n",
    "n=77\n",
    "if n<125 and n>60:\n",
    "    nm=\"alekhya\"\n",
    "    print(nm[len(nm)//2])"
   ]
  },
  {
   "cell_type": "code",
   "execution_count": 30,
   "metadata": {},
   "outputs": [
    {
     "name": "stdout",
     "output_type": "stream",
     "text": [
      "54\n"
     ]
    }
   ],
   "source": [
    "#27)WAP to check whether a given two integers are equal or not. If both are equal, to perform addition and display the result.\n",
    "a,b=27,27\n",
    "if type(a)==type(b):\n",
    "    print(a+b)\n"
   ]
  },
  {
   "cell_type": "code",
   "execution_count": 31,
   "metadata": {},
   "outputs": [
    {
     "name": "stdout",
     "output_type": "stream",
     "text": [
      "8.333333333333334\n"
     ]
    }
   ],
   "source": [
    "#28)WAP to check whether two values are equal or not. if equal, to perform multiplication of two numbers and that result is division by 3 and display the value.\n",
    "a=5\n",
    "b=5\n",
    "\n",
    "if a==b:\n",
    "    c=a*b\n",
    "    d=c/3\n",
    "    print(d)\n",
    "\n"
   ]
  },
  {
   "cell_type": "code",
   "execution_count": 4,
   "metadata": {},
   "outputs": [
    {
     "name": "stdout",
     "output_type": "stream",
     "text": [
      "{'a': 97}\n"
     ]
    }
   ],
   "source": [
    "#29)WAP to check whether a character is in the alphabet or not. If the alphabet, store the value inside the dict(key as a character and value as an ascii value).\n",
    "n=\"a\"\n",
    "d={}\n",
    "if \"A\"<=n<=\"Z\" or \"a\"<=n<=\"z\":\n",
    "    d|={n:ord(n)}\n",
    "    print(d)\n",
    "    "
   ]
  },
  {
   "cell_type": "code",
   "execution_count": 5,
   "metadata": {},
   "outputs": [
    {
     "name": "stdout",
     "output_type": "stream",
     "text": [
      "{'A': 65}\n"
     ]
    }
   ],
   "source": [
    "#30)WAP to check whether a character is in the uppercase or not. If the uppercase, store the value inside the dict(key as a character and value as an ascii value).\n",
    "n=\"A\"\n",
    "d={}\n",
    "if \"A\"<=n<=\"Z\":\n",
    "    d|={n:ord(n)}\n",
    "    print(d)\n"
   ]
  },
  {
   "cell_type": "code",
   "execution_count": 7,
   "metadata": {},
   "outputs": [
    {
     "name": "stdout",
     "output_type": "stream",
     "text": [
      "{'a': 97}\n"
     ]
    }
   ],
   "source": [
    "#31)WAP to check whether a character is in the uppercase or not. If the uppercase, convert to lowercase and store the value inside the dict(character as a key and ascii value as a value).\n",
    "n=\"A\"\n",
    "d={}\n",
    "if \"A\"<=n<=\"z\":\n",
    "    n=chr(ord(n)+32)\n",
    "    d|={n:ord(n)}\n",
    "    print(d)"
   ]
  },
  {
   "cell_type": "code",
   "execution_count": 8,
   "metadata": {},
   "outputs": [
    {
     "name": "stdout",
     "output_type": "stream",
     "text": [
      "aaaaaaaaa\n"
     ]
    }
   ],
   "source": [
    "#32)WAP to check whether a character is in the lowercase or not. If the lowercase, to perform the replication operation on that character.\n",
    "n=\"a\"\n",
    "if \"a\"<=n<=\"z\":\n",
    "    print(n*9)"
   ]
  },
  {
   "cell_type": "code",
   "execution_count": 14,
   "metadata": {},
   "outputs": [
    {
     "name": "stdout",
     "output_type": "stream",
     "text": [
      "97 <class 'int'>\n"
     ]
    }
   ],
   "source": [
    "#33)WAP to check whether a character is in the ascii number or not. If the ascii number, to convert into integer.\n",
    "n=\"a\"\n",
    "if 0<=ord(n)<=127:\n",
    "    n=(ord(n))\n",
    "    print(n,type(n))"
   ]
  },
  {
   "cell_type": "code",
   "execution_count": 15,
   "metadata": {},
   "outputs": [
    {
     "name": "stdout",
     "output_type": "stream",
     "text": [
      "$ 36\n"
     ]
    }
   ],
   "source": [
    "#34)WAP to check whether a character is in the special symbol or not. If the special symbol, to display a symbol with ascii value.\n",
    "n=\"$\"\n",
    "if not(\"a\"<=n<=\"z\" and \"A\"<=n<=\"Z\" and 0<=n<=9):\n",
    "    print(n,ord(n))"
   ]
  },
  {
   "cell_type": "code",
   "execution_count": null,
   "metadata": {},
   "outputs": [],
   "source": []
  },
  {
   "cell_type": "code",
   "execution_count": 17,
   "metadata": {},
   "outputs": [
    {
     "name": "stdout",
     "output_type": "stream",
     "text": [
      "d 100\n"
     ]
    }
   ],
   "source": [
    "#35)WAP to check whether a character is an even number or not. If the even number, to display an even number.\n",
    "n=\"d\"\n",
    "if ord(n)%2==0:\n",
    "    print(n,ord(n))\n"
   ]
  },
  {
   "cell_type": "code",
   "execution_count": 18,
   "metadata": {},
   "outputs": [
    {
     "name": "stdout",
     "output_type": "stream",
     "text": [
      "10 100\n"
     ]
    }
   ],
   "source": [
    "#36)WAP to check whether a Given two integers a and b, if any of the integers is 10 or if their sum is 10, to perform the sum of the numbers and to display the square of the result.\n",
    "a=4\n",
    "b=6\n",
    "c=a+b\n",
    "if a==10 or b==10 or c==10:\n",
    "    print(c,c**2)\n",
    "\n",
    "\n"
   ]
  },
  {
   "cell_type": "code",
   "execution_count": 23,
   "metadata": {},
   "outputs": [
    {
     "name": "stdout",
     "output_type": "stream",
     "text": [
      "b\n"
     ]
    }
   ],
   "source": [
    "#37)WAP to check whether a character is in the vowel or not. If the vowel,print the next character.\n",
    "n=\"a\"\n",
    "if n in [\"a\",\"e\",\"i\",\"o\",\"u\",\"A\",\"E\",\"I\",\"O\",\"U\"]:\n",
    "    print(chr(ord(n)+1))"
   ]
  },
  {
   "cell_type": "code",
   "execution_count": 24,
   "metadata": {},
   "outputs": [
    {
     "name": "stdout",
     "output_type": "stream",
     "text": [
      "u\n"
     ]
    }
   ],
   "source": [
    "#38)WAP to check whether a character is in the not a vowel. If it's not a vowel,print the previous character\n",
    "n=\"v\"\n",
    "if n not in [\"a\",\"e\",\"i\",\"o\",\"u\",\"A\",\"E\",\"I\",\"O\",\"U\"]:\n",
    "    print(chr(ord(n)-1))"
   ]
  },
  {
   "cell_type": "code",
   "execution_count": 50,
   "metadata": {},
   "outputs": [
    {
     "name": "stdout",
     "output_type": "stream",
     "text": [
      "27 <class 'int'>\n"
     ]
    }
   ],
   "source": [
    "#39)WAP to check whether a given value is a single value data type or not. If single value, display the given value as a single value data type.\n",
    "n=[1,2,3,4,5]\n",
    "if type(n) not in [set,dict,tuple,str,list]:\n",
    "    print(n,type(n))\n",
    "a=27\n",
    "if type(a) in [int,float,complex,bytes,bool]:\n",
    "    print(a,type(a))\n"
   ]
  },
  {
   "cell_type": "code",
   "execution_count": 57,
   "metadata": {},
   "outputs": [
    {
     "name": "stdout",
     "output_type": "stream",
     "text": [
      "(1, 2, 3, 4, 5) <class 'tuple'>\n"
     ]
    }
   ],
   "source": [
    "#40)WAP to check whether a given value is a multi-value data type or not. If multi value, store the given value inside the tuple and display it.\n",
    "n=[1,2,3,4,5]\n",
    "t=()\n",
    "if type(n) in [set,dict,tuple,str,list]:\n",
    "    t+=tuple(n)\n",
    "    print(t,type(t))"
   ]
  },
  {
   "cell_type": "code",
   "execution_count": 64,
   "metadata": {},
   "outputs": [
    {
     "name": "stdout",
     "output_type": "stream",
     "text": [
      "{10, 20}\n"
     ]
    }
   ],
   "source": [
    "#41)WAP to check whether a given value is an immutable data type or not. If an immutable data type value, store the given value inside the set and display it.\n",
    "n=(10,20)\n",
    "s=set()\n",
    "if type(n) in [tuple,str,int,float]:\n",
    "    s|=set(n)\n",
    "    print(s)\n",
    "\n",
    "\n"
   ]
  },
  {
   "cell_type": "code",
   "execution_count": 78,
   "metadata": {},
   "outputs": [
    {
     "name": "stdout",
     "output_type": "stream",
     "text": [
      "13\n",
      "4\n"
     ]
    }
   ],
   "source": [
    "#42)WAP to check whether the middle element of a given list is odd or not. If it is odd then print odd then print the number else directly print the number\n",
    "a=[10,20,13,40,50]\n",
    "if a[len(a)//2]%2!=0:\n",
    "    b=a[len(a)//2]\n",
    "    print(b)\n",
    "else:\n",
    "    b=a[len(a)//2]\n",
    "    print(b)\n",
    "\n",
    "a=[10,20,4,40,50]\n",
    "if a[len(a)//2]%2!=0:\n",
    "    b=a[len(a)//2]\n",
    "    print(b)\n",
    "else:\n",
    "    b=a[len(a)//2]\n",
    "    print(b)\n",
    "      "
   ]
  },
  {
   "cell_type": "code",
   "execution_count": null,
   "metadata": {},
   "outputs": [],
   "source": [
    "#43)WAP Return a new string with \"not\" prefixed to the front of the original string. Return the string unmodified if the string already has the word \"not\" at the beginning.\n"
   ]
  },
  {
   "cell_type": "code",
   "execution_count": null,
   "metadata": {},
   "outputs": [],
   "source": [
    "#44)WAP to check whether a given string(str) and one integer(n) value, to display a new string that is devoid of the character at index n. if you are given a non-empty string and an int n. The value of n will be a legitimate character index from the original string, therefore it will fall within the range of 0 to len(str)-1, inclusive."
   ]
  },
  {
   "cell_type": "code",
   "execution_count": null,
   "metadata": {},
   "outputs": [],
   "source": [
    "#45)WAP to check whether the two variables are pointing to the same memory location or not if they are pointing to the same memory location then print the address of both the variables."
   ]
  },
  {
   "cell_type": "code",
   "execution_count": null,
   "metadata": {},
   "outputs": [],
   "source": [
    "#46)WAP to check whether the given length of the string is even or not. If the condition is satisfied, display the sequence of characters from zero position to length of collection -2."
   ]
  },
  {
   "cell_type": "code",
   "execution_count": null,
   "metadata": {},
   "outputs": [],
   "source": [
    "#47)WAP to check whether the two given strings are having the same values or not. If both are not the same values then swap the values of one variable to another variable after swapping print the two values."
   ]
  },
  {
   "cell_type": "code",
   "execution_count": null,
   "metadata": {},
   "outputs": [],
   "source": [
    "#48)WAP to check whether a given character is a special symbol or not. If satisfied, store the symbol as a key and value as a ascii value of the given character inside the dictionary"
   ]
  },
  {
   "cell_type": "code",
   "execution_count": null,
   "metadata": {},
   "outputs": [],
   "source": [
    "#49)WAP to check whether a given key is not present in the dictionary or not. If the key is not present, ap pend the new key inside the dictionary."
   ]
  },
  {
   "cell_type": "code",
   "execution_count": null,
   "metadata": {},
   "outputs": [],
   "source": [
    "#50)WAP whether a given string, and it displays a new string with the first and last characters switched."
   ]
  },
  {
   "cell_type": "code",
   "execution_count": null,
   "metadata": {},
   "outputs": [],
   "source": [
    "#51)WAP to check whether the last digit should be 2 in the given number then print the last digit."
   ]
  },
  {
   "cell_type": "code",
   "execution_count": null,
   "metadata": {},
   "outputs": [],
   "source": [
    "#52)WAP to check whether a Given two integers a and b, if any of the integers is 10 or if their sum is 10, to perform the sum of the numbers and to display the square of the result."
   ]
  },
  {
   "cell_type": "code",
   "execution_count": null,
   "metadata": {},
   "outputs": [],
   "source": [
    "#53)WAP to check whether a given string(str) and one integer(n) value, to display a new string that is devoid of the character at index n. if you are given a non-empty string and an int n. The value of n will be a legitimate character index from the original string, therefore it will fall within the range of 0 to len(str)-1, inclusive"
   ]
  },
  {
   "cell_type": "code",
   "execution_count": null,
   "metadata": {},
   "outputs": [],
   "source": [
    "#54)WAP to check whether both string collections are equal or not if it is not equal print the both strings along with the length of a string if both are equal ignore it."
   ]
  }
 ],
 "metadata": {
  "kernelspec": {
   "display_name": "Python 3",
   "language": "python",
   "name": "python3"
  },
  "language_info": {
   "codemirror_mode": {
    "name": "ipython",
    "version": 3
   },
   "file_extension": ".py",
   "mimetype": "text/x-python",
   "name": "python",
   "nbconvert_exporter": "python",
   "pygments_lexer": "ipython3",
   "version": "3.11.4"
  },
  "orig_nbformat": 4
 },
 "nbformat": 4,
 "nbformat_minor": 2
}
