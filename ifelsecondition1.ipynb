{
 "cells": [
  {
   "cell_type": "code",
   "execution_count": 1,
   "metadata": {},
   "outputs": [
    {
     "name": "stdout",
     "output_type": "stream",
     "text": [
      "positive\n",
      "negative\n"
     ]
    }
   ],
   "source": [
    "#1)WAP to check whether a number is positive or negative. If Positive print positive message or else print Negative Number.\n",
    "n=27\n",
    "if n>0:\n",
    "    print(\"positive\")\n",
    "else:\n",
    "    print(\"negative\")\n",
    "\n",
    "n=-27\n",
    "if n>0:\n",
    "    print(\"positive\")\n",
    "else:\n",
    "    print(\"negative\")    \n",
    "\n"
   ]
  },
  {
   "cell_type": "code",
   "execution_count": 4,
   "metadata": {},
   "outputs": [
    {
     "name": "stdout",
     "output_type": "stream",
     "text": [
      "even\n",
      "odd\n"
     ]
    }
   ],
   "source": [
    "#2)WAP to check whether a number is even or odd. If even, print message an even or else print message as odd.\n",
    "n=28\n",
    "if n%2==0:\n",
    "    print(\"even\")\n",
    "else:\n",
    "    print(\"odd\")\n",
    "n=27\n",
    "if n%2==0:\n",
    "    print(\"even\")\n",
    "else:\n",
    "    print(\"odd\")    "
   ]
  },
  {
   "cell_type": "code",
   "execution_count": 6,
   "metadata": {},
   "outputs": [
    {
     "name": "stdout",
     "output_type": "stream",
     "text": [
      "greater\n",
      "9 not a greater than 10\n"
     ]
    }
   ],
   "source": [
    "#3)Write a program to check whether a given number is greater than 10 or not. if it is greater than 10 print message as greater or else print that number with not a greater than\n",
    "n=27\n",
    "if n>10:\n",
    "    print(\"greater\")\n",
    "else:\n",
    "    print(n,\"not a greater than\")\n",
    "n=9\n",
    "if n>10:\n",
    "    print(\"greater\")\n",
    "else:\n",
    "    print(n,\"not a greater than 10\")    "
   ]
  },
  {
   "cell_type": "code",
   "execution_count": 8,
   "metadata": {},
   "outputs": [
    {
     "name": "stdout",
     "output_type": "stream",
     "text": [
      "good morning\n",
      "good evening\n"
     ]
    }
   ],
   "source": [
    "#4)WAP to check whether the given two input numbers are divisible by 3 and 5. If it is divisible, print “Good Morning”, if it is not divisible print “Good Evening”.\n",
    "num1=15\n",
    "num2=30\n",
    "if num1%3==0 and num1%5==0 and num2%3==0 and num2%5==0:\n",
    "    print(\"good morning\")\n",
    "else:\n",
    "    print(\"good evening\")\n",
    "num1=27\n",
    "num2=9\n",
    "if num1%3==0 and num1%5==0 and num2%3==0 and num2%5==0:\n",
    "    print(\"good morning\")\n",
    "else:\n",
    "    print(\"good evening\")    "
   ]
  },
  {
   "cell_type": "code",
   "execution_count": 11,
   "metadata": {},
   "outputs": [
    {
     "name": "stdout",
     "output_type": "stream",
     "text": [
      "quotient 2.25\n"
     ]
    }
   ],
   "source": [
    "#5)WAP to accept two integers and check whether those two values are equal or not. If equal, multiply to value or else to display the quotation value.\n",
    "num1=int(input(\"enter first value:\"))\n",
    "num2=int(input(\"enter second value\"))\n",
    "if num1==num2:\n",
    "    res=num1*num2\n",
    "    print(res)\n",
    "else:\n",
    "    q=num1/num2\n",
    "    print(\"quotient\",q)"
   ]
  },
  {
   "cell_type": "code",
   "execution_count": 14,
   "metadata": {},
   "outputs": [
    {
     "name": "stdout",
     "output_type": "stream",
     "text": [
      "27\n",
      "96\n"
     ]
    }
   ],
   "source": [
    "#6)WAP to find the largest of two numbers.\n",
    "num1=27\n",
    "num2=9\n",
    "if num1>num2:\n",
    "    print(num1)\n",
    "else:\n",
    "    print(num2)\n",
    "num1=27\n",
    "num2=96\n",
    "if num1>num2:\n",
    "    print(num1)\n",
    "else:\n",
    "    print(num2)    "
   ]
  },
  {
   "cell_type": "code",
   "execution_count": 16,
   "metadata": {},
   "outputs": [
    {
     "name": "stdout",
     "output_type": "stream",
     "text": [
      "greater 90\n"
     ]
    }
   ],
   "source": [
    "#7)WAP to check whether the input number is greater than 10 or not if it is greater than 10 print messages as greater with number. if it is not a greater than 10 print that number.\n",
    "num=int(input(\"enter a number:\"))\n",
    "if num>10:\n",
    "    print(\"greater\",num)\n",
    "else:\n",
    "    print(num)    "
   ]
  },
  {
   "cell_type": "code",
   "execution_count": 20,
   "metadata": {},
   "outputs": [
    {
     "name": "stdout",
     "output_type": "stream",
     "text": [
      "24\n"
     ]
    }
   ],
   "source": [
    "#8)WAP to the given number integer, if n is greater than 21,print the absolute difference between n and 21 otherwise print twice the absolute difference.\n",
    "n=int(input(\"enter a number:\"))\n",
    "if n>21:\n",
    "    diff=abs(n-21)\n",
    "    print(diff)\n",
    "else:\n",
    "    diff=2 * abs(n-21)  \n",
    "    print(diff)  "
   ]
  },
  {
   "cell_type": "code",
   "execution_count": 25,
   "metadata": {},
   "outputs": [
    {
     "name": "stdout",
     "output_type": "stream",
     "text": [
      "largest 9\n"
     ]
    }
   ],
   "source": [
    "#9)WAP to find the smallest of two numbers.\n",
    "num1=int(input(\"enter a number:\"))\n",
    "num2=int(input(\"enter a number:\"))\n",
    "if num1<num2:\n",
    "    print(\"smallest\",num1)\n",
    "else:\n",
    "    print(num2)"
   ]
  },
  {
   "cell_type": "code",
   "execution_count": 29,
   "metadata": {},
   "outputs": [
    {
     "name": "stdout",
     "output_type": "stream",
     "text": [
      "29 odd\n",
      "26 even\n"
     ]
    }
   ],
   "source": [
    "#10)WAP to check whether the given number is even or odd. If it is even then make it as an add number, if it is an odd number then make it as even number.\n",
    "num=28\n",
    "if num%2==0:\n",
    "    print(num+1,\"odd\")\n",
    "else:\n",
    "    print(num-1)\n",
    "num=27\n",
    "if num%2==0:\n",
    "    print(num+1,\"odd\")\n",
    "else:\n",
    "    print(num-1,\"even\")    "
   ]
  },
  {
   "cell_type": "code",
   "execution_count": 31,
   "metadata": {},
   "outputs": [
    {
     "name": "stdout",
     "output_type": "stream",
     "text": [
      "30\n",
      "cube of number 343\n"
     ]
    }
   ],
   "source": [
    "#11)WAP to check whether the given number is divisible by 3 or not if yes, print the number or else print the cube of the numbers.\n",
    "num=30\n",
    "if num%3==0:\n",
    "    print(num)\n",
    "else:\n",
    "    print(num**3)    \n",
    "num=7\n",
    "if num%3==0:\n",
    "    print(num)\n",
    "else:\n",
    "    print(\"cube of number\",num**3)        "
   ]
  },
  {
   "cell_type": "code",
   "execution_count": 38,
   "metadata": {},
   "outputs": [
    {
     "name": "stdout",
     "output_type": "stream",
     "text": [
      "30\n",
      "27 <class 'str'>\n"
     ]
    }
   ],
   "source": [
    "#12)WAP to check whether the given input is divisible by 3 and 5. If yes print the actual number or else print string of that number.\n",
    "num=30\n",
    "if num%3==0 and num%5==0:\n",
    "    print(num)\n",
    "else:\n",
    "    print(str(num))\n",
    "num=27\n",
    "if num%3==0 and num%5==0:\n",
    "    print(num)\n",
    "else:\n",
    "    print(str(num),type(str(num)))    "
   ]
  },
  {
   "cell_type": "code",
   "execution_count": 41,
   "metadata": {},
   "outputs": [
    {
     "name": "stdout",
     "output_type": "stream",
     "text": [
      "81 square\n",
      "19683 cube\n"
     ]
    }
   ],
   "source": [
    "#13)WAP to check whether the given number lies between 1 to 19, if it is true square that number or else false cube that number and display the number\n",
    "num=9\n",
    "if 1<=num<=19:\n",
    "    print(num**2,\"square\")\n",
    "else:\n",
    "    print(num**3,\"cube\")   \n",
    "num=27\n",
    "if 1<=num<=19:\n",
    "    print(num**2,\"square\")\n",
    "else:\n",
    "    print(num**3,\"cube\")       "
   ]
  },
  {
   "cell_type": "code",
   "execution_count": 43,
   "metadata": {},
   "outputs": [
    {
     "name": "stdout",
     "output_type": "stream",
     "text": [
      "fail\n"
     ]
    }
   ],
   "source": [
    "#14)WAP to check whether the student has passed or failed. If the student got more than 40 marks, print ‘PASS’ along with those marks, if it is not printed ‘FAIL’ along with those marks.\n",
    "marks=int(input(\"enter student marks:\"))\n",
    "if marks>40:\n",
    "    print(\"pass\")\n",
    "else:\n",
    "    print(\"fail\")    "
   ]
  },
  {
   "cell_type": "code",
   "execution_count": 47,
   "metadata": {},
   "outputs": [
    {
     "name": "stdout",
     "output_type": "stream",
     "text": [
      "17 floor division\n"
     ]
    }
   ],
   "source": [
    "#15)WAP to check whether a given value is even and in range of 47 to 58 and not in 0 or odd. if condition is True, to perform display the ascii character. or else to perform floor division with 5 and display it.\n",
    "num=int(input(\"enter a number:\"))\n",
    "if num%2==0 and 47<=num<58 and num!=0 or num%2!=0:\n",
    "    print(chr(num))\n",
    "else:\n",
    "    print(num//5,\"floor division\")"
   ]
  },
  {
   "cell_type": "code",
   "execution_count": 50,
   "metadata": {},
   "outputs": [
    {
     "name": "stdout",
     "output_type": "stream",
     "text": [
      "[200]\n"
     ]
    }
   ],
   "source": [
    "#16)WAP to check whether a given value is less than 125 and in between 47 to 125 or not. if condition is True, to perform store the given value as key and value as a character into the dict or else to append the value in list and display it.\n",
    "num=int(input(\"enter a number:\"))\n",
    "d={}\n",
    "l=[]\n",
    "if 47<num<125:\n",
    "    d[num]=chr(num)\n",
    "    print(d)\n",
    "else:\n",
    "    l+=[num]\n",
    "    print(l)    "
   ]
  },
  {
   "cell_type": "code",
   "execution_count": 53,
   "metadata": {},
   "outputs": [
    {
     "name": "stdout",
     "output_type": "stream",
     "text": [
      "9 is not an alphabet\n"
     ]
    }
   ],
   "source": [
    "#17)WAP to check whether a given character is in the alphabet or not. if alphabet, display the alphabet with character or else display the not alphabet with character.\n",
    "char = input(\"Enter a character: \")\n",
    "if \"A\"<=char<=\"Z\" or \"a\"<=char<=\"z\":\n",
    "    print(char,\"is an alphabet\")\n",
    "else:\n",
    "    print(char,\"is not an alphabet\")    \n"
   ]
  },
  {
   "cell_type": "code",
   "execution_count": 59,
   "metadata": {},
   "outputs": [
    {
     "name": "stdout",
     "output_type": "stream",
     "text": [
      "a is lower case charecter\n"
     ]
    }
   ],
   "source": [
    "#18)WAP to check whether a given character is uppercase or other character. if uppercase, display the uppercase with character or else display the other character with character\n",
    "char = input(\"Enter a character: \")\n",
    "if \"A\"<=char<=\"Z\":\n",
    "    print(char,\" is upper charecter\")\n",
    "else:\n",
    "    print(char,\"is other charecter\")    "
   ]
  },
  {
   "cell_type": "code",
   "execution_count": 63,
   "metadata": {},
   "outputs": [
    {
     "name": "stdout",
     "output_type": "stream",
     "text": [
      "l  is lower case charecter\n"
     ]
    }
   ],
   "source": [
    "#19)WAP to check whether a given character is lowercase or other character. if lowercase, display the lowercase with character or else display the other character with character.\n",
    "char = input(\"Enter a character: \")\n",
    "if \"a\"<=char<=\"z\":\n",
    "    print(char,\" is lower case charecter\")\n",
    "else:\n",
    "    print(char,\"is other  charecter\")   "
   ]
  },
  {
   "cell_type": "code",
   "execution_count": 62,
   "metadata": {},
   "outputs": [
    {
     "name": "stdout",
     "output_type": "stream",
     "text": [
      "97\n"
     ]
    }
   ],
   "source": [
    "#20)WAP to check whether a given character is uppercase or other character. if uppercase, convert to lowercase .or else display the ascii number.\n",
    "char=input(\"Enter a character: \")\n",
    "if \"A\"<=char<=\"Z\":\n",
    "    print(chr(ord(char)+32))\n",
    "else:\n",
    "    print(ord(char))    "
   ]
  },
  {
   "cell_type": "code",
   "execution_count": 65,
   "metadata": {},
   "outputs": [
    {
     "name": "stdout",
     "output_type": "stream",
     "text": [
      "G\n"
     ]
    }
   ],
   "source": [
    "#21)WAP to check whether the given character is in lowercase or uppercase. If it is in lowercase, convert it into uppercase, or else it is in uppercase and convert it into lowercase. Display the value.\n",
    "char=input(\"enter a charecter\")\n",
    "if \"a\"<=char<=\"z\":\n",
    "    print(chr(ord(char)-32))\n",
    "else:\n",
    "    print(chr(ord(char)+32))\n"
   ]
  },
  {
   "cell_type": "code",
   "execution_count": 6,
   "metadata": {},
   "outputs": [
    {
     "name": "stdout",
     "output_type": "stream",
     "text": [
      "h\n",
      "i\n"
     ]
    }
   ],
   "source": [
    "#22)WAP to check whether the given string of the first character is a special symbol or not. If a special symbol, to extract and display\n",
    "# the middle character or else to reverse the string and display the half of the string.\n",
    "char=\"@vahini\"\n",
    "if not(\"a\"<=char[0]<=\"z\" and \"A\"<=char[0]<=\"Z\" and \"0\"<=char[0]<=\"9\"):\n",
    "    midvalue=char[len(char)//2]\n",
    "    print(midvalue)\n",
    "else:\n",
    "    reverse=char[::-1]\n",
    "    halfstring=reverse[:len(char)//2]\n",
    "    print(halfstring)\n",
    "\n",
    "char=\"vahini\"\n",
    "if not(\"a\"<=char[0]<=\"z\" and \"A\"<=char[0]<=\"Z\" and \"0\"<=char[0]<=\"9\"):\n",
    "    midvalue=char[len(char)//2]\n",
    "    print(midvalue)\n",
    "else:\n",
    "    reverse=char[::-1]\n",
    "    halfstring=reverse[:len(char)//2]\n",
    "    print(halfstring)\n",
    "\n",
    "\n"
   ]
  },
  {
   "cell_type": "code",
   "execution_count": 1,
   "metadata": {},
   "outputs": [
    {
     "name": "stdout",
     "output_type": "stream",
     "text": [
      "96\n"
     ]
    }
   ],
   "source": [
    "v1=int(input(\"enter a number\"))\n",
    "v2=int(input(\"enter a number\"))\n",
    "ch=str(input(\"enter a operation\"))\n",
    "if ch==\"+\":\n",
    "    print(v1+v2)\n"
   ]
  },
  {
   "cell_type": "code",
   "execution_count": 3,
   "metadata": {},
   "outputs": [
    {
     "name": "stdout",
     "output_type": "stream",
     "text": [
      "(10, 20, 111, 40, 50)\n"
     ]
    }
   ],
   "source": [
    "a=(10,20,30,40,50)\n",
    "a=a[0:2]+(111,)+a[3:]\n",
    "print(a)\n"
   ]
  }
 ],
 "metadata": {
  "kernelspec": {
   "display_name": "Python 3",
   "language": "python",
   "name": "python3"
  },
  "language_info": {
   "codemirror_mode": {
    "name": "ipython",
    "version": 3
   },
   "file_extension": ".py",
   "mimetype": "text/x-python",
   "name": "python",
   "nbconvert_exporter": "python",
   "pygments_lexer": "ipython3",
   "version": "3.11.4"
  },
  "orig_nbformat": 4
 },
 "nbformat": 4,
 "nbformat_minor": 2
}
